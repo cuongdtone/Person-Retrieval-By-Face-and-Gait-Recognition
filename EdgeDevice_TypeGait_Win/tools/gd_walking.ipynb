{
 "cells": [
  {
   "cell_type": "code",
   "execution_count": 50,
   "metadata": {
    "collapsed": true,
    "pycharm": {
     "name": "#%%\n"
    }
   },
   "outputs": [],
   "source": [
    "from __future__ import division, print_function, unicode_literals\n",
    "\n",
    "import matplotlib.pyplot as plt\n",
    "import numpy as np"
   ]
  },
  {
   "cell_type": "code",
   "execution_count": 81,
   "outputs": [],
   "source": [
    "\n",
    "orbit = np.array(\n",
    "    [[147, 49], [150, 50], [153, 51], [175, 54], [163, 58], [165, 59], [168, 60], [170, 62], [173, 63], [175, 64],\n",
    "     [178, 66], [180, 67], [183, 68]])\n",
    "\n",
    "X = np.expand_dims(orbit[:, 0], -1)\n",
    "y = np.expand_dims(orbit[:, 1], -1)\n",
    "# # Visualize data\n",
    "# plt.plot(X, y)\n",
    "# plt.axis([140, 190, 45, 75])\n",
    "# plt.show()"
   ],
   "metadata": {
    "collapsed": false,
    "pycharm": {
     "name": "#%%\n"
    }
   }
  },
  {
   "cell_type": "code",
   "execution_count": 82,
   "outputs": [
    {
     "name": "stdout",
     "output_type": "stream",
     "text": [
      "w =  [[-26.1800038 ]\n",
      " [  0.50978901]]\n"
     ]
    },
    {
     "data": {
      "text/plain": "<Figure size 432x288 with 1 Axes>",
      "image/png": "[encoded data removed]"
     },
     "metadata": {
      "needs_background": "light"
     },
     "output_type": "display_data"
    }
   ],
   "source": [
    "one = np.ones((X.shape[0], 1))\n",
    "Xbar = np.concatenate((one, X), axis=1)\n",
    "\n",
    "# Calculating weights of the fitting line\n",
    "A = np.dot(Xbar.T, Xbar)\n",
    "b = np.dot(Xbar.T, y)\n",
    "w = np.dot(np.linalg.pinv(A), b)\n",
    "print('w = ', w)\n",
    "# Preparing the fitting line\n",
    "w_0 = w[0][0]\n",
    "w_1 = w[1][0]\n",
    "x0 = np.linspace(145, 185, 2)\n",
    "y0 = w_0 + w_1 * x0\n",
    "\n",
    "# Drawing the fitting line\n",
    "plt.plot(X, y, label=\"line 1\")  # data\n",
    "plt.plot(x0, y0, label=\"line 2\")  # the fitting line\n",
    "# plt.axis([140, 190, 45, 75])\n",
    "# plt.xlabel('Height (cm)')\n",
    "# plt.ylabel('Weight (kg)')\n",
    "plt.show()"
   ],
   "metadata": {
    "collapsed": false,
    "pycharm": {
     "name": "#%%\n"
    }
   }
  },
  {
   "cell_type": "code",
   "execution_count": 83,
   "outputs": [],
   "source": [
    "y0 = w_0 + w_1 * 0\n",
    "y1 = w_0 + w_1 * 1\n",
    "p1 = np.array([0, y0])\n",
    "p2 = np.array([1, y1])"
   ],
   "metadata": {
    "collapsed": false,
    "pycharm": {
     "name": "#%%\n"
    }
   }
  },
  {
   "cell_type": "code",
   "execution_count": 61,
   "outputs": [
    {
     "name": "stdout",
     "output_type": "stream",
     "text": [
      "0.0\n"
     ]
    }
   ],
   "source": [],
   "metadata": {
    "collapsed": false,
    "pycharm": {
     "name": "#%%\n"
    }
   }
  },
  {
   "cell_type": "code",
   "execution_count": 84,
   "outputs": [
    {
     "name": "stdout",
     "output_type": "stream",
     "text": [
      "18.066148018231942\n"
     ]
    }
   ],
   "source": [
    "d_all = 0\n",
    "for p3 in orbit:\n",
    "    d = abs(np.cross(p2 - p1, p3 - p1) / np.linalg.norm(p2 - p1))\n",
    "    d_all += d\n",
    "\n",
    "print(d_all)\n"
   ],
   "metadata": {
    "collapsed": false,
    "pycharm": {
     "name": "#%%\n"
    }
   }
  }
 ],
 "metadata": {
  "kernelspec": {
   "display_name": "Python 3",
   "language": "python",
   "name": "python3"
  },
  "language_info": {
   "codemirror_mode": {
    "name": "ipython",
    "version": 2
   },
   "file_extension": ".py",
   "mimetype": "text/x-python",
   "name": "python",
   "nbconvert_exporter": "python",
   "pygments_lexer": "ipython2",
   "version": "2.7.6"
  }
 },
 "nbformat": 4,
 "nbformat_minor": 0
}